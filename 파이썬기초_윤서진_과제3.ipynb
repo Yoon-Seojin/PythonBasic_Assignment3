{
  "nbformat": 4,
  "nbformat_minor": 0,
  "metadata": {
    "colab": {
      "name": "파이썬기초_윤서진_과제3.ipynb",
      "provenance": [],
      "collapsed_sections": []
    },
    "kernelspec": {
      "name": "python3",
      "display_name": "Python 3"
    }
  },
  "cells": [
    {
      "cell_type": "code",
      "metadata": {
        "id": "fNl8Oy3W69Sr",
        "colab_type": "code",
        "colab": {
          "base_uri": "https://localhost:8080/",
          "height": 108
        },
        "outputId": "7842a246-00ff-4e86-ad62-27fe99e233be"
      },
      "source": [
        "#problem1\n",
        "#1\n",
        "a_list = [1,\"hello\",[1,2,3],True]\n",
        "#2\n",
        "print(a_list[1])\n",
        "print(\"-\"*50)\n",
        "#3\n",
        "print(a_list[1],a_list[2],a_list[3])\n",
        "print(\"-\"*50)\n",
        "#4\n",
        "A = [1,'a']\n",
        "B = [2,1,'d']\n",
        "A.extend(B)\n",
        "print(A)"
      ],
      "execution_count": 57,
      "outputs": [
        {
          "output_type": "stream",
          "text": [
            "hello\n",
            "--------------------------------------------------\n",
            "hello [1, 2, 3] True\n",
            "--------------------------------------------------\n",
            "[1, 'a', 2, 1, 'd']\n"
          ],
          "name": "stdout"
        }
      ]
    },
    {
      "cell_type": "code",
      "metadata": {
        "id": "B_caU0oiBN9S",
        "colab_type": "code",
        "colab": {
          "base_uri": "https://localhost:8080/",
          "height": 72
        },
        "outputId": "4471094e-7b16-46d9-ceca-4fa5658315d5"
      },
      "source": [
        "#problem2\n",
        "#1\n",
        "soundtrack_dic = {\"Star Wars: Episode1-The Phantom Menace\":\"1999\", \"Avatar\":\"2009\", \"Great Data\":\"2021\"}\n",
        "print(soundtrack_dic.keys())\n",
        "print(\"-\"*50)\n",
        "#2\n",
        "print(soundtrack_dic.values())"
      ],
      "execution_count": 58,
      "outputs": [
        {
          "output_type": "stream",
          "text": [
            "dict_keys(['Star Wars: Episode1-The Phantom Menace', 'Avatar', 'Great Data'])\n",
            "--------------------------------------------------\n",
            "dict_values(['1999', '2009', '2021'])\n"
          ],
          "name": "stdout"
        }
      ]
    },
    {
      "cell_type": "code",
      "metadata": {
        "id": "n_UIh73cafH2",
        "colab_type": "code",
        "colab": {
          "base_uri": "https://localhost:8080/",
          "height": 179
        },
        "outputId": "ee828aa2-4c3c-4236-aa63-a643721216ca"
      },
      "source": [
        "#problem3\n",
        "#1\n",
        "list = ['rap','house','electronic music','rap']\n",
        "print(set(list))\n",
        "print(\"-\"*50)\n",
        "#2\n",
        "A = [1, 2, 2, 1]\n",
        "B = set([1, 2, 2, 1])\n",
        "print(sum(A))\n",
        "print(sum(B))\n",
        "print(sum(A)==sum(B))\n",
        "print(\"-\"*50)\n",
        "#3\n",
        "album_set1 = set([\"Thriller\",'AC/DC','Back in Black']) \n",
        "album_set2 = set([ \"AC/DC\",\"Back in Black\",\"The Dark Side of the Moon\"])\n",
        "album_set3 = album_set1|album_set2\n",
        "print(album_set3)\n",
        "print(\"-\"*50)\n",
        "#4\n",
        "print(album_set1.issubset(album_set3))"
      ],
      "execution_count": 59,
      "outputs": [
        {
          "output_type": "stream",
          "text": [
            "{'electronic music', 'house', 'rap'}\n",
            "--------------------------------------------------\n",
            "6\n",
            "3\n",
            "False\n",
            "--------------------------------------------------\n",
            "{'The Dark Side of the Moon', 'AC/DC', 'Back in Black', 'Thriller'}\n",
            "--------------------------------------------------\n",
            "True\n"
          ],
          "name": "stdout"
        }
      ]
    },
    {
      "cell_type": "code",
      "metadata": {
        "id": "oemqT4KNdSOD",
        "colab_type": "code",
        "colab": {
          "base_uri": "https://localhost:8080/",
          "height": 53
        },
        "outputId": "4c864b71-7ebf-40dc-8ee1-4bc4055efedd"
      },
      "source": [
        "#problem4-1\n",
        "Dict ={\"Artist\": \"Michael\", \"Genre\": \"R&B\", \"Sales\": 10000}\n",
        "Dict2 ={\"Artist\": \"Mickey\", \"Genre\": \"Pop\", \"Sales\": 100000000000000000000}\n",
        "\n",
        "def isMichael(a):\n",
        "  if a[\"Artist\"]==\"Michael\":\n",
        "    return Dict[\"Genre\"] \n",
        "  return \"None\"\n",
        "\n",
        "print(isMichael(Dict))\n",
        "print(isMichael(Dict2))"
      ],
      "execution_count": 60,
      "outputs": [
        {
          "output_type": "stream",
          "text": [
            "R&B\n",
            "None\n"
          ],
          "name": "stdout"
        }
      ]
    },
    {
      "cell_type": "code",
      "metadata": {
        "id": "l6ksWX9hPepr",
        "colab_type": "code",
        "colab": {
          "base_uri": "https://localhost:8080/",
          "height": 161
        },
        "outputId": "ef6e8f70-5343-41db-b5e0-1cdd05225160"
      },
      "source": [
        "#problem4-2\n",
        "#1\n",
        "def c_to_f(n):\n",
        "  if n<-273:\n",
        "    return \"wrong input\"\n",
        "  return 9/5*n+32\n",
        "\n",
        "def f_to_c(n):\n",
        "  if n<c_to_f(-273):\n",
        "    return \"wrong input\"\n",
        "  return (n-32)*5/9\n",
        "\n",
        "print(c_to_f(0))\n",
        "print(c_to_f(-2000))\n",
        "print(f_to_c(50000))\n",
        "print(\"-\"*50)\n",
        "#2\n",
        "L = [1, 2, 3, 5, 9, 31, 28, 91]\n",
        "\n",
        "def evenoddprime(n):\n",
        "  even = 0\n",
        "  for i in range(len(n)):\n",
        "    if n[i]%2 == 0:\n",
        "      even += 1\n",
        "  return \"even: \"+str(even)+\"\\nodd: \"+str(len(n)-even)\n",
        "\n",
        "print(evenoddprime(L))\n",
        "print(\"-\"*50)\n",
        "#3\n",
        "def isprime(n): \n",
        "  if (n<2):\n",
        "    return False\n",
        "  for i in range(2,int(n**0.5+1)):\n",
        "    if (n%i == 0):\n",
        "      return False\n",
        "  return True\n",
        "\n",
        "def numprime(n):\n",
        "  sum = 0\n",
        "  for i in range(len(n)):\n",
        "    if isprime(n[i]):\n",
        "      sum += 1\n",
        "  return sum\n",
        "\n",
        "print(numprime(L))"
      ],
      "execution_count": 61,
      "outputs": [
        {
          "output_type": "stream",
          "text": [
            "32.0\n",
            "wrong input\n",
            "27760.0\n",
            "--------------------------------------------------\n",
            "even: 2\n",
            "odd: 6\n",
            "--------------------------------------------------\n",
            "4\n"
          ],
          "name": "stdout"
        }
      ]
    },
    {
      "cell_type": "code",
      "metadata": {
        "id": "TKb-N8_YTiJx",
        "colab_type": "code",
        "colab": {}
      },
      "source": [
        ""
      ],
      "execution_count": 0,
      "outputs": []
    }
  ]
}